{
 "cells": [
  {
   "cell_type": "code",
   "execution_count": 1,
   "id": "3c28e3e0",
   "metadata": {},
   "outputs": [],
   "source": [
    "# Import the random module.\n",
    "import random\n",
    "\n",
    "#randint(start, end) <= whole #s only\n",
    "#random() <= only floats between 0 & 1 not whole #s\n",
    "#randgrange(starte, end, step) <= whole #s only\n",
    "#uniform(start, end) <= float only\n"
   ]
  },
  {
   "cell_type": "code",
   "execution_count": 5,
   "id": "ee580730",
   "metadata": {},
   "outputs": [
    {
     "data": {
      "text/plain": [
       "0.2836768241387877"
      ]
     },
     "execution_count": 5,
     "metadata": {},
     "output_type": "execute_result"
    }
   ],
   "source": [
    "#single floating-point decimal number between 0 and 1.0 random()\n",
    "random.random()"
   ]
  },
  {
   "cell_type": "code",
   "execution_count": 7,
   "id": "7412281e",
   "metadata": {},
   "outputs": [
    {
     "data": {
      "text/plain": [
       "-9"
      ]
     },
     "execution_count": 7,
     "metadata": {},
     "output_type": "execute_result"
    }
   ],
   "source": [
    "#whole numbers randint = random intergers e.g random whole #s between -9 and 9\n",
    "random.randint(-10,10)"
   ]
  },
  {
   "cell_type": "code",
   "execution_count": 24,
   "id": "68e87ad1",
   "metadata": {},
   "outputs": [
    {
     "data": {
      "text/plain": [
       "1"
      ]
     },
     "execution_count": 24,
     "metadata": {},
     "output_type": "execute_result"
    }
   ],
   "source": [
    "#whole numbers\n",
    "random.randrange(-9,9,2)"
   ]
  },
  {
   "cell_type": "code",
   "execution_count": 11,
   "id": "e9f97dcb",
   "metadata": {},
   "outputs": [
    {
     "data": {
      "text/plain": [
       "-4.616912840210807"
      ]
     },
     "execution_count": 11,
     "metadata": {},
     "output_type": "execute_result"
    }
   ],
   "source": [
    "#floating point number\n",
    "random.uniform(-10,10)"
   ]
  },
  {
   "cell_type": "code",
   "execution_count": 12,
   "id": "905483b8",
   "metadata": {},
   "outputs": [
    {
     "data": {
      "text/plain": [
       "26.17546724102119"
      ]
     },
     "execution_count": 12,
     "metadata": {},
     "output_type": "execute_result"
    }
   ],
   "source": [
    "random_number = random.randint(-90,89) + random.random()\n",
    "random_number"
   ]
  },
  {
   "cell_type": "code",
   "execution_count": 9,
   "id": "1643bb81",
   "metadata": {},
   "outputs": [
    {
     "name": "stdout",
     "output_type": "stream",
     "text": [
      "26.723738500806565\n",
      "-63.14478345082986\n",
      "-44.16230556897601\n",
      "41.62186959604763\n",
      "-66.95391573496866\n",
      "-41.610772253818304\n",
      "-35.31605540365175\n",
      "-79.62367136995478\n",
      "47.881000093994956\n",
      "49.22490098605164\n"
     ]
    }
   ],
   "source": [
    "x = 1\n",
    "latitudes = []\n",
    "while x < 11:\n",
    "    random_lat = random.randint(-90, 89) + random.random()\n",
    "    latitudes.append(random_lat)\n",
    "    x += 1\n",
    "    print(random_lat)"
   ]
  },
  {
   "cell_type": "code",
   "execution_count": 15,
   "id": "66aa947c",
   "metadata": {},
   "outputs": [
    {
     "data": {
      "text/plain": [
       "88"
      ]
     },
     "execution_count": 15,
     "metadata": {},
     "output_type": "execute_result"
    }
   ],
   "source": [
    "random.randrange(-90, 90, step=1)"
   ]
  },
  {
   "cell_type": "code",
   "execution_count": 41,
   "id": "a08cf9ef",
   "metadata": {},
   "outputs": [
    {
     "data": {
      "text/plain": [
       "-12"
      ]
     },
     "execution_count": 41,
     "metadata": {},
     "output_type": "execute_result"
    }
   ],
   "source": [
    "#random # between -90 and 90 wiht increments of 3 \n",
    "random.randrange(-90, 90, step=3)"
   ]
  },
  {
   "cell_type": "code",
   "execution_count": 20,
   "id": "268735d0",
   "metadata": {},
   "outputs": [],
   "source": [
    "# Import the NumPy module.\n",
    "import numpy as np"
   ]
  },
  {
   "cell_type": "code",
   "execution_count": 19,
   "id": "0ffc4263",
   "metadata": {},
   "outputs": [
    {
     "data": {
      "text/plain": [
       "61.434922450081615"
      ]
     },
     "execution_count": 19,
     "metadata": {},
     "output_type": "execute_result"
    }
   ],
   "source": [
    "np.random.uniform(low=-90, high=90)"
   ]
  },
  {
   "cell_type": "code",
   "execution_count": 20,
   "id": "1b478445",
   "metadata": {},
   "outputs": [
    {
     "data": {
      "text/plain": [
       "array([ 7.82677398e+01,  1.62396167e+01, -7.19450218e+01, -1.95637046e+01,\n",
       "        2.88512366e+01, -2.82392329e+01, -1.38864025e+01, -8.53005592e+01,\n",
       "       -5.57405014e+00, -7.40062098e+01,  8.33767263e+01, -2.04596459e+01,\n",
       "        2.58693782e+01,  5.55935719e+01, -1.68131973e+00, -2.68545758e+01,\n",
       "       -6.75632829e+01,  3.55543599e+01,  9.07054014e+00,  3.91939364e+01,\n",
       "        5.91660172e+01, -3.60947838e+01,  2.35210062e+00,  8.45599669e+01,\n",
       "        5.18916511e+01,  5.96559262e+01,  7.51005781e+01,  3.05066264e+01,\n",
       "       -4.19917270e+01, -7.49735191e+01, -8.02049633e+01,  7.17583933e-03,\n",
       "       -4.07875030e+01,  1.44783748e+01, -7.49142936e+01,  1.82195580e+00,\n",
       "       -3.28835950e+01,  3.76856680e+01,  3.79363089e+01,  2.33395786e+01,\n",
       "        5.35328361e+01,  7.24187703e+00,  2.26124781e+01, -4.29652815e+01,\n",
       "        5.34338347e+01, -8.33356351e+01, -3.21541643e+01,  8.66489626e+01,\n",
       "        6.98933047e+01,  5.01911475e+01])"
      ]
     },
     "execution_count": 20,
     "metadata": {},
     "output_type": "execute_result"
    }
   ],
   "source": [
    "np.random.uniform(-90.000, 90.000, size=50)"
   ]
  },
  {
   "cell_type": "code",
   "execution_count": 21,
   "id": "f7a6879d",
   "metadata": {},
   "outputs": [],
   "source": [
    "# Import timeit. Measures execution time of small code snippets\n",
    "import timeit"
   ]
  },
  {
   "cell_type": "code",
   "execution_count": 22,
   "id": "2a954e8b",
   "metadata": {},
   "outputs": [
    {
     "name": "stdout",
     "output_type": "stream",
     "text": [
      "14 µs ± 166 ns per loop (mean ± std. dev. of 7 runs, 100,000 loops each)\n"
     ]
    }
   ],
   "source": [
    "%timeit np.random.uniform(-90.000, 90.000, size=1500)"
   ]
  },
  {
   "cell_type": "code",
   "execution_count": 23,
   "id": "110d92a1",
   "metadata": {},
   "outputs": [
    {
     "name": "stdout",
     "output_type": "stream",
     "text": [
      "1.49 ms ± 12.9 µs per loop (mean ± std. dev. of 7 runs, 1,000 loops each)\n"
     ]
    }
   ],
   "source": [
    "def latitudes(size):\n",
    "    latitudes = []\n",
    "    x = 0\n",
    "    while x < (size):\n",
    "        random_lat = random.randint(-90, 90) + random.random()\n",
    "        latitudes.append(random_lat)\n",
    "        x += 1\n",
    "    return latitudes\n",
    "# Call the function with 1500.\n",
    "%timeit latitudes(1500)"
   ]
  },
  {
   "cell_type": "code",
   "execution_count": 24,
   "id": "81448545",
   "metadata": {},
   "outputs": [],
   "source": [
    "# Import the dependencies.\n",
    "import pandas as pd\n",
    "import matplotlib.pyplot as plt\n",
    "import numpy as np"
   ]
  },
  {
   "cell_type": "code",
   "execution_count": 25,
   "id": "ae066b55",
   "metadata": {},
   "outputs": [
    {
     "data": {
      "text/plain": [
       "<zip at 0x7fa8b6b108c0>"
      ]
     },
     "execution_count": 25,
     "metadata": {},
     "output_type": "execute_result"
    }
   ],
   "source": [
    "# Create a set of random latitude and longitude combinations.\n",
    "lats = np.random.uniform(low=-90.000, high=90.000, size=1500)\n",
    "lngs = np.random.uniform(low=-180.000, high=180.000, size=1500)\n",
    "lat_lngs = zip(lats, lngs)\n",
    "lat_lngs"
   ]
  },
  {
   "cell_type": "code",
   "execution_count": 50,
   "id": "26ef01bc",
   "metadata": {},
   "outputs": [],
   "source": [
    "import timeit"
   ]
  },
  {
   "cell_type": "code",
   "execution_count": 119,
   "id": "e68dbb8b",
   "metadata": {},
   "outputs": [
    {
     "name": "stdout",
     "output_type": "stream",
     "text": [
      "[14.11529617478066, -80.0512507905141, -52.944553080917046, 37.54596032758194, 65.43547750138704, -47.640407467930714, -5.621799024921642, 3.44103234947442, 47.19628720450342, 12.929262699224621]\n"
     ]
    }
   ],
   "source": [
    "def latitudes(size):\n",
    "    latitudes = []\n",
    "    x = 0\n",
    "    while x < (size):\n",
    "        random_lat = random.randint(-90, 90) + random.random()\n",
    "        latitudes.append(random_lat)\n",
    "        x +=1\n",
    "    return latitudes\n",
    "\n",
    "lats = latitudes(10)\n",
    "print(lats)\n",
    "\n",
    "# %timeit latitudes(15)"
   ]
  },
  {
   "cell_type": "code",
   "execution_count": 118,
   "id": "da886c2c",
   "metadata": {},
   "outputs": [],
   "source": [
    "import numpy\n",
    "# np.random.randint\n",
    "# np.random.random()\n",
    "# np.random.uniform"
   ]
  },
  {
   "cell_type": "code",
   "execution_count": 55,
   "id": "94b98920",
   "metadata": {},
   "outputs": [
    {
     "data": {
      "text/plain": [
       "-9"
      ]
     },
     "execution_count": 55,
     "metadata": {},
     "output_type": "execute_result"
    }
   ],
   "source": [
    "np.random.randint(-10, 10)"
   ]
  },
  {
   "cell_type": "code",
   "execution_count": 56,
   "id": "05afc9f4",
   "metadata": {},
   "outputs": [
    {
     "data": {
      "text/plain": [
       "0.17116033485457116"
      ]
     },
     "execution_count": 56,
     "metadata": {},
     "output_type": "execute_result"
    }
   ],
   "source": [
    "np.random.random()"
   ]
  },
  {
   "cell_type": "code",
   "execution_count": 58,
   "id": "b50d404d",
   "metadata": {},
   "outputs": [
    {
     "data": {
      "text/plain": [
       "array([-1.2292646 , -1.16024583, -8.37874716])"
      ]
     },
     "execution_count": 58,
     "metadata": {},
     "output_type": "execute_result"
    }
   ],
   "source": [
    "np.random.uniform(-10,10, 3) #<= (start, stop, size)"
   ]
  },
  {
   "cell_type": "code",
   "execution_count": 59,
   "id": "a462cf4d",
   "metadata": {},
   "outputs": [],
   "source": [
    "#Import dependencies\n",
    "\n",
    "import pandas as pd\n",
    "import numpy as np\n",
    "import matplotlib.pyplot as plt"
   ]
  },
  {
   "cell_type": "code",
   "execution_count": 120,
   "id": "012161da",
   "metadata": {},
   "outputs": [
    {
     "name": "stdout",
     "output_type": "stream",
     "text": [
      "[(-54.682553199739075, 43.064490800204624), (32.93642431978637, 155.3613932529006), (39.628001921337415, 153.1594670871022), (5.857951838976675, 121.89093412326463), (-42.9984061131053, 147.60609634433627), (-65.30968794672557, -155.6896302095078), (66.57676794787685, 143.08138417647802), (28.235462577013436, 166.7609700870055), (-47.71647153865739, -12.008141582233435), (-27.145359687136192, -9.035554992667585)]\n"
     ]
    }
   ],
   "source": [
    "# generate a set of random latitude and longitude combos\n",
    "\n",
    "import pprint\n",
    "pp = pprint.PrettyPrinter()\n",
    "\n",
    "\n",
    "lats = np.random.uniform(-90, 90, 10)\n",
    "long = np.random.uniform(-180, 180, 10)\n",
    "lats_long = zip(lats, long)\n",
    "lats_long\n",
    "\n",
    "# pp.pprint(list(lats_long))\n",
    "print(list(lats_long))\n",
    "\n"
   ]
  },
  {
   "cell_type": "code",
   "execution_count": 92,
   "id": "ab6a0596",
   "metadata": {},
   "outputs": [
    {
     "name": "stdout",
     "output_type": "stream",
     "text": [
      "the lat is 25.12903645 and the long is -67.59741259\n",
      "the lat is 25.92017388 and the long is 11.09532135\n",
      "the lat is 26.62509167 and the long is 74.84233102\n",
      "the lat is -59.98969384 and the long is -76.89176677\n",
      "the lat is 37.30571269 and the long is -61.13376282\n"
     ]
    }
   ],
   "source": [
    "# Create a practice set of random latitude and longitude combinations.\n",
    "lats = [25.12903645, 25.92017388, 26.62509167, -59.98969384, 37.30571269]\n",
    "lngs = [-67.59741259, 11.09532135, 74.84233102, -76.89176677, -61.13376282]\n",
    "lat_lngs = zip(lats, lngs)\n",
    "\n",
    "\n",
    "for coordinate in zip(lats, lngs):\n",
    "    print(f\"the lat is {coordinate[0]} and the long is {coordinate[1]}\")\n",
    "\n",
    "\n",
    "#print(list(lat_lngs))\n"
   ]
  },
  {
   "cell_type": "code",
   "execution_count": 116,
   "id": "a7bc6402",
   "metadata": {
    "scrolled": true
   },
   "outputs": [],
   "source": [
    "\n",
    "# try:\n",
    "#     print(bar)\n",
    "#     print(\"inside\")\n",
    "# except NameError:\n",
    "#     print(\"got an error\")\n",
    "\n",
    "# print(\"outside\")\n",
    "\n",
    "\n",
    "def greet(name):\n",
    "    return f\"hello {name}\"\n",
    "\n",
    "\n",
    "thing = greet(\"mandy\")\n",
    "\n",
    "\n",
    "\n",
    "\n",
    "#print(thing)\n"
   ]
  },
  {
   "cell_type": "code",
   "execution_count": null,
   "id": "51a667c1",
   "metadata": {},
   "outputs": [],
   "source": []
  }
 ],
 "metadata": {
  "kernelspec": {
   "display_name": "Python 3 (ipykernel)",
   "language": "python",
   "name": "python3"
  },
  "language_info": {
   "codemirror_mode": {
    "name": "ipython",
    "version": 3
   },
   "file_extension": ".py",
   "mimetype": "text/x-python",
   "name": "python",
   "nbconvert_exporter": "python",
   "pygments_lexer": "ipython3",
   "version": "3.9.12"
  }
 },
 "nbformat": 4,
 "nbformat_minor": 5
}
