{
 "cells": [
  {
   "cell_type": "code",
   "execution_count": null,
   "id": "ab183c19",
   "metadata": {},
   "outputs": [],
   "source": [
    "weather_api_key=\"d5442fd638afefd7384a37fa32a1e93d\""
   ]
  }
 ],
 "metadata": {
  "kernelspec": {
   "display_name": "Python 3 (ipykernel)",
   "language": "python",
   "name": "python3"
  },
  "language_info": {
   "codemirror_mode": {
    "name": "ipython",
    "version": 3
   },
   "file_extension": ".py",
   "mimetype": "text/x-python",
   "name": "python",
   "nbconvert_exporter": "python",
   "pygments_lexer": "ipython3",
   "version": "3.9.12"
  }
 },
 "nbformat": 4,
 "nbformat_minor": 5
}
